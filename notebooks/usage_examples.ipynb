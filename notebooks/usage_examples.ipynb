{
 "cells": [
  {
   "cell_type": "markdown",
   "id": "1f895b7c",
   "metadata": {},
   "source": [
    "## EcoStock: A Comprehensive Python Package for Finance Professionals and Economists\n",
    "\n",
    "EcoStock is a comprehensive Python package tailored for finance professionals and economists, offering a suite of powerful tools to analyze stock data and economic indicators. This notebook will guide you through the installation process and showcase various features of the EcoStock package.\n",
    "\n",
    "### **Installation**\n",
    "\n",
    "To install the EcoStock package, use the following command:"
   ]
  },
  {
   "cell_type": "code",
   "execution_count": null,
   "id": "7db0aa22",
   "metadata": {},
   "outputs": [],
   "source": [
    "# !pip install EcoStock"
   ]
  },
  {
   "cell_type": "markdown",
   "id": "7c17e9f2",
   "metadata": {},
   "source": [
    "EcoStock has two modules: \n",
    "- **functions**: it provides various functions for retrieving, analyzing, and visualizing economic and stock data.\n",
    "- **adalo**: it contains functions tailored for use in the Adalo app, a no-code platform for building applications. These functions return data in a format suitable for a no-code environment, such as JSON.\n",
    "\n",
    "### **Usage Examples**\n",
    "\n",
    "- Let's explore some of the key functionalities of the EcoStock package.\n",
    "\n",
    "##### Importing all from **functions** and **adalo** modules"
   ]
  },
  {
   "cell_type": "code",
   "execution_count": null,
   "id": "0fea2f4c",
   "metadata": {},
   "outputs": [],
   "source": [
    "from EcoStock.functions import *\n",
    "from EcoStock.adalo import *"
   ]
  },
  {
   "cell_type": "markdown",
   "id": "0ed6d9a6",
   "metadata": {},
   "source": [
    "### First Module: **functions**\n",
    "\n",
    "##### 1. **Fetching Stock Data from Yahoo Finance**\n",
    "\n",
    "- Fetch historical stock data for Apple Inc. (AAPL) for the year 2022:"
   ]
  },
  {
   "cell_type": "code",
   "execution_count": null,
   "id": "c9ccb377",
   "metadata": {},
   "outputs": [],
   "source": [
    "get_stock_data('AAPL', '2022-01-01', '2022-12-31')"
   ]
  },
  {
   "cell_type": "markdown",
   "id": "7505b306",
   "metadata": {},
   "source": [
    "##### 2. **Candlestick Chart**\n",
    "\n",
    "- Plot a candlestick chart for Apple Inc. (AAPL) for the year 2023"
   ]
  },
  {
   "cell_type": "code",
   "execution_count": null,
   "id": "e386dde0",
   "metadata": {},
   "outputs": [],
   "source": [
    "plot_candlestick('AAPL', '2023-01-01', '2023-12-31')"
   ]
  },
  {
   "cell_type": "markdown",
   "id": "8c556118",
   "metadata": {},
   "source": [
    "##### 3. **Moving Average Stock Data**\n",
    "\n",
    "- Calculate moving average stock data for Apple Inc. (AAPL) over a specific time period:"
   ]
  },
  {
   "cell_type": "code",
   "execution_count": null,
   "id": "253bfc53",
   "metadata": {},
   "outputs": [],
   "source": [
    "moving_avg_stock_data('AAPL', '2022', '2023')"
   ]
  },
  {
   "cell_type": "markdown",
   "id": "5fd886ce",
   "metadata": {},
   "source": [
    "##### 4. **Fetch Economic Data from the World Bank**\n",
    "\n",
    "- Fetch economic data from the World Bank for the United States over a specific time period:"
   ]
  },
  {
   "cell_type": "code",
   "execution_count": null,
   "id": "e4c19cd3",
   "metadata": {},
   "outputs": [],
   "source": [
    "get_world_bank_data('NY.GDP.MKTP.CD', 'US', '2010', '2020')"
   ]
  },
  {
   "cell_type": "markdown",
   "id": "1da27937",
   "metadata": {},
   "source": [
    "##### 5. **Plot Correlation Between Stock and Economic Data**\n",
    "\n",
    "- Plot the correlation between Apple's stock price and US GDP data over a specific time period:"
   ]
  },
  {
   "cell_type": "code",
   "execution_count": null,
   "id": "cbda7c99",
   "metadata": {},
   "outputs": [],
   "source": [
    "plot_correlation('AAPL', 'NY.GDP.MKTP.CD', 'US', '2010-01-01', '2020-12-31')"
   ]
  },
  {
   "cell_type": "markdown",
   "id": "30f20def",
   "metadata": {},
   "source": [
    "##### 6. **Bollinger Bands**\n",
    "\n",
    "- Generate Bollinger Bands for Apple Inc. (AAPL) for the year 2022:"
   ]
  },
  {
   "cell_type": "code",
   "execution_count": null,
   "id": "73727475",
   "metadata": {},
   "outputs": [],
   "source": [
    "plot_bollinger_bands('AAPL', '2022-01-01', '2022-12-31')"
   ]
  },
  {
   "cell_type": "markdown",
   "id": "bc1939ba",
   "metadata": {},
   "source": [
    "##### 7. **Plot Economic Indicator for Multiple Countries**\n",
    "\n",
    "- Plot the GDP indicator for the US, China, and Japan from 2010 to 2020:"
   ]
  },
  {
   "cell_type": "code",
   "execution_count": null,
   "id": "8e3e65f0",
   "metadata": {},
   "outputs": [],
   "source": [
    "countries_indicator('NY.GDP.MKTP.CD', ['US', 'CN', 'JP'], '2010', '2020')"
   ]
  },
  {
   "cell_type": "markdown",
   "id": "9cc77553",
   "metadata": {},
   "source": [
    "##### 8. **Daily Returns of Stocks**\n",
    "\n",
    "- Plot daily returns of Apple (AAPL), Microsoft (MSFT), and Google (GOOGL) stocks for the year 2020:"
   ]
  },
  {
   "cell_type": "code",
   "execution_count": null,
   "id": "b91a91e1",
   "metadata": {},
   "outputs": [],
   "source": [
    "daily_returns(['AAPL', 'MSFT', 'GOOGL'], '2020-01-01', '2020-12-31')"
   ]
  },
  {
   "cell_type": "markdown",
   "id": "00b037c1",
   "metadata": {},
   "source": [
    "##### 9. **Predictive Modeling: ARIMA**\n",
    "\n",
    "- Predict Apple's stock prices using the ARIMA model and plot the results:"
   ]
  },
  {
   "cell_type": "code",
   "execution_count": null,
   "id": "408e2981",
   "metadata": {},
   "outputs": [],
   "source": [
    "arima_prediction('AAPL', '2023-01-01', '2024-12-31')"
   ]
  },
  {
   "cell_type": "markdown",
   "id": "92bbc7df",
   "metadata": {},
   "source": [
    "##### 10. **Cumulative Returns of a Portfolio**\n",
    "\n",
    "- Plot cumulative returns of a portfolio consisting of Apple (AAPL), Microsoft (MSFT), and Google (GOOGL) stocks for the year 2020:"
   ]
  },
  {
   "cell_type": "code",
   "execution_count": null,
   "id": "c9ae0f0f",
   "metadata": {},
   "outputs": [],
   "source": [
    "cum_returns(['AAPL', 'MSFT', 'GOOGL'], '2020-01-01', '2020-12-31')"
   ]
  },
  {
   "cell_type": "markdown",
   "id": "ccd5a49f",
   "metadata": {},
   "source": [
    "##### 11. **Annual Returns of a Portfolio**\n",
    "\n",
    "- Plot the annual returns of a portfolio consisting of Apple (AAPL), Microsoft (MSFT), and Google (GOOGL) stocks for the years 2020 and 2021:"
   ]
  },
  {
   "cell_type": "code",
   "execution_count": null,
   "id": "8ce15051",
   "metadata": {},
   "outputs": [],
   "source": [
    "annual_returns(['AAPL', 'MSFT', 'GOOGL'], 2020, 2021)"
   ]
  },
  {
   "cell_type": "markdown",
   "id": "3d907efa",
   "metadata": {},
   "source": [
    "##### 12. **Rolling Volatility of a Stock**\n",
    "\n",
    "- Plot the rolling volatility of Apple Inc. (AAPL) for the year 2020 with a 30-day window:"
   ]
  },
  {
   "cell_type": "code",
   "execution_count": null,
   "id": "e5bde6db",
   "metadata": {},
   "outputs": [],
   "source": [
    "rolling_volatility('AAPL', '2020-01-01', '2020-12-31', 30)"
   ]
  },
  {
   "cell_type": "markdown",
   "id": "a8d3524f",
   "metadata": {},
   "source": [
    "##### 13. **Moving Average Convergence Divergence (MACD)**\n",
    "\n",
    "- Plot the MACD for Apple Inc. (AAPL) for the year 2020:"
   ]
  },
  {
   "cell_type": "code",
   "execution_count": null,
   "id": "bdf391bd",
   "metadata": {},
   "outputs": [],
   "source": [
    "macd('AAPL', '2020-01-01', '2020-12-31', 12, 26)"
   ]
  },
  {
   "cell_type": "markdown",
   "id": "eb64e87f",
   "metadata": {},
   "source": [
    "##### 14. **Relative Strength Index (RSI)**\n",
    "\n",
    "- Plot the RSI for Apple Inc. (AAPL) for the year 2020:"
   ]
  },
  {
   "cell_type": "code",
   "execution_count": null,
   "id": "12ad1bb2",
   "metadata": {},
   "outputs": [],
   "source": [
    "rsi('AAPL', '2020-01-01', '2020-12-31', 14)"
   ]
  },
  {
   "cell_type": "markdown",
   "id": "a7117e66",
   "metadata": {},
   "source": [
    "##### 15. **Volume Weighted Average Price (VWAP)**\n",
    "\n",
    "- Plot the VWAP for Apple Inc. (AAPL) for the year 2020:"
   ]
  },
  {
   "cell_type": "code",
   "execution_count": null,
   "id": "b2f5a4f0",
   "metadata": {},
   "outputs": [],
   "source": [
    "vwap('AAPL', '2020-01-01', '2020-12-31')"
   ]
  },
  {
   "cell_type": "markdown",
   "id": "a1b260d5",
   "metadata": {},
   "source": [
    "##### 16. **Predict Stock Prices Using Linear Regression**\n",
    "\n",
    "- Predict Apple Inc. (AAPL) stock prices using linear regression and plot the results for the year 2020 with a 30-day prediction window:"
   ]
  },
  {
   "cell_type": "code",
   "execution_count": null,
   "id": "109fafb9",
   "metadata": {},
   "outputs": [],
   "source": [
    "lm_prediction('AAPL', '2020-01-01', '2020-12-31', 30)"
   ]
  },
  {
   "cell_type": "markdown",
   "id": "a30962f3",
   "metadata": {},
   "source": [
    "##### 17. **Fibonacci Retracement Levels**\n",
    "\n",
    "- Plot Fibonacci retracement levels for Apple Inc. (AAPL) for the year 2020:"
   ]
  },
  {
   "cell_type": "code",
   "execution_count": null,
   "id": "d7467821",
   "metadata": {},
   "outputs": [],
   "source": [
    "fibonacci_retracement('AAPL', '2020-01-01', '2020-12-31')"
   ]
  },
  {
   "cell_type": "markdown",
   "id": "6a9d6c8a",
   "metadata": {},
   "source": [
    "##### 18. **Ichimoku Cloud**\n",
    "\n",
    "- Plot the Ichimoku Cloud for Apple Inc. (AAPL) for the year 2020:"
   ]
  },
  {
   "cell_type": "code",
   "execution_count": null,
   "id": "5da7e9f9",
   "metadata": {},
   "outputs": [],
   "source": [
    "ichimoku_cloud('AAPL', '2020-01-01', '2020-12-31')"
   ]
  },
  {
   "cell_type": "markdown",
   "id": "c165b940",
   "metadata": {},
   "source": [
    "##### 19. **Global Economic Analysis**\n",
    "\n",
    "- Compare GDP growth for the United States, China, and Japan from 2010 to 2020:"
   ]
  },
  {
   "cell_type": "code",
   "execution_count": null,
   "id": "aa66b247",
   "metadata": {},
   "outputs": [],
   "source": [
    "gdp_growth(['US', 'CN', 'JP'], '2010', '2020')"
   ]
  },
  {
   "cell_type": "markdown",
   "id": "8232c6e6",
   "metadata": {},
   "source": [
    "##### 20. **Economic Analysis for Multiple Countries**\n",
    "\n",
    "- Analyze the economy of the US, China, and Japan from 2010 to 2020:"
   ]
  },
  {
   "cell_type": "code",
   "execution_count": null,
   "id": "c0abe1a4",
   "metadata": {},
   "outputs": [],
   "source": [
    "analyse_economy(['US', 'CN', 'JP'], '2010', '2020')"
   ]
  },
  {
   "cell_type": "markdown",
   "id": "f4c68ac4",
   "metadata": {},
   "source": [
    "### Second Module: **adalo** \n",
    "\n",
    "##### 1. **Plot Stock Price Trend Chart**\n",
    "\n",
    "- Generate a price trend chart for a given stock ticker and date range:"
   ]
  },
  {
   "cell_type": "code",
   "execution_count": null,
   "id": "baef0e43",
   "metadata": {},
   "outputs": [],
   "source": [
    "candlestick('AAPL', '2022-01-01', '2022-12-31')"
   ]
  },
  {
   "cell_type": "markdown",
   "id": "0d27e94a",
   "metadata": {},
   "source": [
    "#### 2. **Plot Correlation Between Stock and Economic Data**\n",
    "\n",
    "- Calculate and plot the correlation between Apple's stock price and US GDP data:"
   ]
  },
  {
   "cell_type": "code",
   "execution_count": null,
   "id": "db06495c",
   "metadata": {},
   "outputs": [],
   "source": [
    "correlation('AAPL', 'NY.GDP.MKTP.CD', 'US', '2010-01-01', '2020-12-31')"
   ]
  },
  {
   "cell_type": "markdown",
   "id": "df83aa0d",
   "metadata": {},
   "source": [
    "#### 3. **Plot Bollinger Bands**\n",
    "\n",
    "- Generate a Bollinger Bands plot for a given stock ticker and date range:"
   ]
  },
  {
   "cell_type": "code",
   "execution_count": null,
   "id": "434e1a62",
   "metadata": {},
   "outputs": [],
   "source": [
    "bollinger_bands('AAPL', '2022-01-01', '2022-12-31')"
   ]
  },
  {
   "cell_type": "markdown",
   "id": "8f5aec9e",
   "metadata": {},
   "source": [
    "#### 4. **Plot Economic Indicator for Multiple Countries**\n",
    "\n",
    "- Plot the GDP indicator for the US, China, and Japan from 2010 to 2020:"
   ]
  },
  {
   "cell_type": "code",
   "execution_count": null,
   "id": "e285c492",
   "metadata": {},
   "outputs": [],
   "source": [
    "indicator_for_countries('NY.GDP.MKTP.CD', ['US', 'CN', 'JP'], '2010', '2020')"
   ]
  },
  {
   "cell_type": "markdown",
   "id": "e983ad01",
   "metadata": {},
   "source": [
    "#### 5. **Get Latest News Articles**\n",
    "\n",
    "- Get the latest news articles about Apple Inc. (AAPL):"
   ]
  },
  {
   "cell_type": "code",
   "execution_count": null,
   "id": "31aa45f9",
   "metadata": {},
   "outputs": [],
   "source": [
    "get_news('AAPL')"
   ]
  },
  {
   "cell_type": "markdown",
   "id": "3c0b3b17",
   "metadata": {},
   "source": [
    "#### 6. **Plot Stock Correlation**\n",
    "\n",
    "- Plot the correlation in daily returns between multiple stock tickers from the start date to the end date:"
   ]
  },
  {
   "cell_type": "code",
   "execution_count": null,
   "id": "95e0068f",
   "metadata": {},
   "outputs": [],
   "source": [
    "stock_correlation(['AAPL', 'GOOGL', 'MSFT'], '2022-01-01', '2022-01-31')"
   ]
  },
  {
   "cell_type": "markdown",
   "id": "99e34999",
   "metadata": {},
   "source": [
    "#### 7. **Predict Stock Prices**\n",
    "\n",
    "- Predict Apple's stock prices using a selected predictive model:"
   ]
  },
  {
   "cell_type": "code",
   "execution_count": null,
   "id": "c2befc34",
   "metadata": {},
   "outputs": [],
   "source": [
    "stock_prediction('AAPL', '2024-01-01', '2024-12-31')"
   ]
  },
  {
   "cell_type": "markdown",
   "id": "0e2146b4",
   "metadata": {},
   "source": [
    "#### 8. **Calculate Portfolio Return**\n",
    "\n",
    "- Calculate and plot the returns of a portfolio consisting of multiple stocks:"
   ]
  },
  {
   "cell_type": "code",
   "execution_count": null,
   "id": "4ffb5553",
   "metadata": {},
   "outputs": [],
   "source": [
    "portfolio_return(['AAPL', 'GOOGL', 'MSFT'], '2022-01-01', '2022-12-31')"
   ]
  },
  {
   "cell_type": "markdown",
   "id": "351eb30d",
   "metadata": {},
   "source": [
    "### **Documentation**\n",
    "\n",
    "For more examples and detailed list of available functions, please refer to the [documentation](../docs/index.md).\n",
    "\n",
    "#### **API Documentation**\n",
    "\n",
    "The EcoStock package includes a FastAPI application that serves as the API for interacting with the functionalities provided by the package.\n",
    "\n",
    "For more details, please refer to the [API documentation](../docs/API.md).\n",
    "\n",
    "### **Conclusion**\n",
    "\n",
    "The EcoStock package provides a wide range of tools and functionalities for financial and economic analysis. The examples above illustrate how to fetch data, perform technical analysis, predict stock prices, manage portfolios, and analyze global economic indicators.\n",
    "\n",
    "### **License**\n",
    "\n",
    "EcoStock is licensed under the MIT License - see the [LICENSE](../LICENSE.md) file for details."
   ]
  }
 ],
 "metadata": {
  "kernelspec": {
   "display_name": "Python 3",
   "language": "python",
   "name": "python3"
  },
  "language_info": {
   "codemirror_mode": {
    "name": "ipython",
    "version": 3
   },
   "file_extension": ".py",
   "mimetype": "text/x-python",
   "name": "python",
   "nbconvert_exporter": "python",
   "pygments_lexer": "ipython3",
   "version": "3.10.6"
  }
 },
 "nbformat": 4,
 "nbformat_minor": 5
}
